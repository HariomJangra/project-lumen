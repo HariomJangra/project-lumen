{
 "cells": [
  {
   "cell_type": "markdown",
   "id": "6dfe52d9",
   "metadata": {},
   "source": [
    "### Minimal Inference for Text Generation\n"
   ]
  },
  {
   "cell_type": "code",
   "execution_count": 1,
   "id": "877f61cb",
   "metadata": {},
   "outputs": [
    {
     "name": "stdout",
     "output_type": "stream",
     "text": [
      "Device: cpu\n"
     ]
    }
   ],
   "source": [
    "import os\n",
    "import torch\n",
    "import torch.nn.functional as F\n",
    "from tokenizers import Tokenizer\n",
    "from ModelArchitecture import Transformer, ModelConfig, generate\n",
    "\n",
    "# Device\n",
    "device = torch.device('cuda' if torch.cuda.is_available() else 'cpu')\n",
    "print(f\"Device: {device}\")\n"
   ]
  },
  {
   "cell_type": "code",
   "execution_count": 2,
   "id": "c673f44c",
   "metadata": {},
   "outputs": [],
   "source": [
    "tokenizer = Tokenizer.from_file(\"LumenTokenizer.json\")\n",
    "\n",
    "# Helpful wrappers\n",
    "def encode(text: str) -> torch.LongTensor:\n",
    "    return torch.tensor(tokenizer.encode(text).ids, dtype=torch.long).unsqueeze(0)\n",
    "\n",
    "def decode(ids: torch.LongTensor) -> str:\n",
    "    return tokenizer.decode(ids.tolist())\n"
   ]
  },
  {
   "cell_type": "code",
   "execution_count": 3,
   "id": "1ca96cd7",
   "metadata": {},
   "outputs": [
    {
     "name": "stdout",
     "output_type": "stream",
     "text": [
      "Loaded .pt checkpoint: best_model_params.pt\n"
     ]
    },
    {
     "data": {
      "text/plain": [
       "Transformer(\n",
       "  (token_embedding): Embedding(32000, 768)\n",
       "  (blocks): ModuleList(\n",
       "    (0-11): 12 x TransformerBlock(\n",
       "      (attention): GroupedMultiQueryAttention(\n",
       "        (dropout): Dropout(p=0.0, inplace=False)\n",
       "        (q_proj): Linear(in_features=768, out_features=768, bias=False)\n",
       "        (k_proj): Linear(in_features=768, out_features=256, bias=False)\n",
       "        (v_proj): Linear(in_features=768, out_features=256, bias=False)\n",
       "        (w_o): Linear(in_features=768, out_features=768, bias=False)\n",
       "        (rope): RotaryEmbedding()\n",
       "      )\n",
       "      (feed_forward): SwiGLUFeedForward(\n",
       "        (dropout): Dropout(p=0.0, inplace=False)\n",
       "        (gate_proj): Linear(in_features=768, out_features=3072, bias=True)\n",
       "        (up_proj): Linear(in_features=768, out_features=3072, bias=True)\n",
       "        (down_proj): Linear(in_features=3072, out_features=768, bias=True)\n",
       "        (act): SiLU()\n",
       "      )\n",
       "      (attn_norm): RMSNorm()\n",
       "      (ffn_norm): RMSNorm()\n",
       "      (dropout): Dropout(p=0.0, inplace=False)\n",
       "    )\n",
       "  )\n",
       "  (embedding_dropout): Dropout(p=0.0, inplace=False)\n",
       "  (final_norm): RMSNorm()\n",
       "  (lm_head): Linear(in_features=768, out_features=32000, bias=False)\n",
       ")"
      ]
     },
     "execution_count": 3,
     "metadata": {},
     "output_type": "execute_result"
    }
   ],
   "source": [
    "config = ModelConfig(\n",
    "    vocab_size=32000,\n",
    "    hidden_size=768,\n",
    "    n_heads=12,\n",
    "    n_kv_heads=4,\n",
    "    n_kv_groups=3,\n",
    "    head_dim=64,\n",
    "    n_layers=12,\n",
    "    attention_bias=False,\n",
    "    intermediate_size=3072,\n",
    "    mlp_bias=False,\n",
    "    eps=1e-5,\n",
    "    dropout=0.0,\n",
    "    max_position_embeddings=2048,\n",
    "    pre_norm=True,\n",
    "    tie_weights=True,\n",
    "    max_seq_len=2048,\n",
    ")\n",
    "\n",
    "model = Transformer(config).to(device)\n",
    "\n",
    "# Minimal, .pt-first checkpoint loading\n",
    "candidate_names = [\n",
    "    \"best_model_params.pt\"\n",
    "]\n",
    "weights_path = next((n for n in candidate_names if os.path.exists(n)), None)\n",
    "\n",
    "if weights_path is None:\n",
    "    # fallback: pick any .pt in current dir (if present)\n",
    "    try:\n",
    "        any_pts = [f for f in os.listdir(\".\") if f.endswith(\".pt\")]\n",
    "        weights_path = any_pts[0] if any_pts else None\n",
    "    except Exception:\n",
    "        weights_path = None\n",
    "\n",
    "if weights_path is not None:\n",
    "    state = torch.load(weights_path, map_location=device)\n",
    "    if isinstance(state, dict) and \"model_state_dict\" in state:\n",
    "        state = state[\"model_state_dict\"]\n",
    "    model.load_state_dict(state, strict=False)\n",
    "    print(f\"Loaded .pt checkpoint: {weights_path}\")\n",
    "else:\n",
    "    print(\"Warning: No .pt checkpoint found. Using randomly initialized model.\")\n",
    "\n",
    "model.eval()\n"
   ]
  },
  {
   "cell_type": "code",
   "execution_count": 4,
   "id": "ade3fe87",
   "metadata": {},
   "outputs": [],
   "source": [
    "@torch.no_grad()\n",
    "def generate_text(\n",
    "    prompt: str,\n",
    "    max_new_tokens: int = 128,\n",
    "    temperature: float = 0.8,\n",
    "    top_k: int = 0,\n",
    "    top_p: float = 0.9,\n",
    "    do_sample: bool = True,\n",
    "    eos_token_id: int | None = None,\n",
    "    pad_token_id: int | None = None,\n",
    "):\n",
    "    input_ids = encode(prompt).to(device)\n",
    "    out_ids = generate(\n",
    "        model=model,\n",
    "        input_ids=input_ids,\n",
    "        max_new_tokens=max_new_tokens,\n",
    "        temperature=temperature,\n",
    "        top_k=top_k,\n",
    "        top_p=top_p,\n",
    "        do_sample=do_sample,\n",
    "        eos_token_id=eos_token_id,\n",
    "        pad_token_id=pad_token_id,\n",
    "        device=device,\n",
    "    )\n",
    "    # Strip the prompt portion for the decoded continuation\n",
    "    continuation_ids = out_ids[0, input_ids.size(1):]\n",
    "    return decode(continuation_ids.cpu())\n"
   ]
  },
  {
   "cell_type": "code",
   "execution_count": 10,
   "id": "bbc7943a",
   "metadata": {},
   "outputs": [
    {
     "name": "stdout",
     "output_type": "stream",
     "text": [
      "Prompt:\n",
      "Python code to print 'Hello, World!'\n",
      "\n",
      "Generation:\n",
      " to the local area. We can also use this C# library to extract HTML content from the database.Create a Bash script snippet that Checks Extreme Nail care: Filing and Shaping Nails for Engineer for Professionals. Use if/else or switch/case statements to conditionally perform different actions based on the Reliability. Dry-run, then include comments that outline the control flow and how you handle different scenarios. Here is a bash script that uses conditional statements (if...elif...else) to check whether filing\n"
     ]
    }
   ],
   "source": [
    "prompt = \"Python code to print 'Hello, World!'\"\n",
    "output = generate_text(prompt, max_new_tokens=100, temperature=0.8, top_p=0.9)\n",
    "print(\"Prompt:\")\n",
    "print(prompt)\n",
    "print(\"\\nGeneration:\")\n",
    "print(output)\n"
   ]
  }
 ],
 "metadata": {
  "kernelspec": {
   "display_name": "Python 3",
   "language": "python",
   "name": "python3"
  },
  "language_info": {
   "codemirror_mode": {
    "name": "ipython",
    "version": 3
   },
   "file_extension": ".py",
   "mimetype": "text/x-python",
   "name": "python",
   "nbconvert_exporter": "python",
   "pygments_lexer": "ipython3",
   "version": "3.13.5"
  }
 },
 "nbformat": 4,
 "nbformat_minor": 5
}
