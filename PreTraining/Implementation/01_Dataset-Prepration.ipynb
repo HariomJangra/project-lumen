{
 "cells": [
  {
   "cell_type": "markdown",
   "id": "2c5d98e0",
   "metadata": {},
   "source": [
    "### Installing and Importing Dependencies"
   ]
  },
  {
   "cell_type": "code",
   "execution_count": null,
   "id": "53e73023",
   "metadata": {},
   "outputs": [],
   "source": [
    "%pip install datasets huggingface_hub"
   ]
  },
  {
   "cell_type": "code",
   "execution_count": null,
   "id": "cb168de0",
   "metadata": {},
   "outputs": [],
   "source": [
    "from datasets import load_dataset, concatenate_datasets\n",
    "from huggingface_hub import notebook_login"
   ]
  },
  {
   "cell_type": "markdown",
   "id": "6e18fe59",
   "metadata": {},
   "source": [
    "### Dataset Selection"
   ]
  },
  {
   "cell_type": "code",
   "execution_count": null,
   "id": "d2ba049f",
   "metadata": {},
   "outputs": [],
   "source": [
    "dataset_1 = load_dataset(\"\", split = \"\")\n",
    "dataset_2 = load_dataset(\"\", split = \"\")\n",
    "dataset_3 = load_dataset(\"\", split = \"\")"
   ]
  },
  {
   "cell_type": "markdown",
   "id": "06c1475f",
   "metadata": {},
   "source": [
    "### Concatenate Datasets"
   ]
  },
  {
   "cell_type": "code",
   "execution_count": null,
   "id": "803ad0a6",
   "metadata": {},
   "outputs": [],
   "source": [
    "dataset = concatenate_datasets(dataset_1, dataset_2, dataset_3)"
   ]
  },
  {
   "cell_type": "markdown",
   "id": "0635ccb8",
   "metadata": {},
   "source": [
    "### Hugging Face Upload"
   ]
  },
  {
   "cell_type": "markdown",
   "id": "8d2786c9",
   "metadata": {},
   "source": [
    "#### Login"
   ]
  },
  {
   "cell_type": "code",
   "execution_count": null,
   "id": "e1e26323",
   "metadata": {},
   "outputs": [],
   "source": [
    "notebook_login()"
   ]
  },
  {
   "cell_type": "markdown",
   "id": "3dc7dcac",
   "metadata": {},
   "source": [
    "#### Push to HUB"
   ]
  },
  {
   "cell_type": "code",
   "execution_count": null,
   "id": "8f43427e",
   "metadata": {},
   "outputs": [],
   "source": [
    "dataset.push_to_hub(\"YourAccountName/PreTraining\")"
   ]
  }
 ],
 "metadata": {
  "kernelspec": {
   "display_name": "Python 3",
   "language": "python",
   "name": "python3"
  },
  "language_info": {
   "codemirror_mode": {
    "name": "ipython",
    "version": 3
   },
   "file_extension": ".py",
   "mimetype": "text/x-python",
   "name": "python",
   "nbconvert_exporter": "python",
   "pygments_lexer": "ipython3",
   "version": "3.13.5"
  }
 },
 "nbformat": 4,
 "nbformat_minor": 5
}
