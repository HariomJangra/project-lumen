{
 "cells": [
  {
   "cell_type": "markdown",
   "id": "6dfe52d9",
   "metadata": {},
   "source": [
    "### Installing and Importing necessary Dependencies\n"
   ]
  },
  {
   "cell_type": "code",
   "execution_count": null,
   "id": "877f61cb",
   "metadata": {},
   "outputs": [],
   "source": [
    "import os\n",
    "import json\n",
    "import torch\n",
    "import torch.nn.functional as F\n",
    "from tokenizers import Tokenizer\n",
    "from ModelArchitecture import Transformer, ModelConfig, generate\n",
    "from safetensors.torch import load_file"
   ]
  },
  {
   "cell_type": "markdown",
   "id": "cc510ca6",
   "metadata": {},
   "source": [
    "### Device Configurations"
   ]
  },
  {
   "cell_type": "code",
   "execution_count": null,
   "id": "15acba4f",
   "metadata": {},
   "outputs": [],
   "source": [
    "device = torch.device('cuda' if torch.cuda.is_available() else 'cpu')\n",
    "print(f\"Device: {device}\")"
   ]
  },
  {
   "cell_type": "markdown",
   "id": "99d47b2f",
   "metadata": {},
   "source": [
    "### Importing and Setting up Tokenizer"
   ]
  },
  {
   "cell_type": "code",
   "execution_count": null,
   "id": "c673f44c",
   "metadata": {},
   "outputs": [],
   "source": [
    "tokenizer = Tokenizer.from_file(\"LumenTokenizer.json\")\n",
    "\n",
    "def encode(text: str) -> torch.LongTensor:\n",
    "    return torch.tensor(tokenizer.encode(text).ids, dtype=torch.long).unsqueeze(0)\n",
    "\n",
    "def decode(ids: torch.LongTensor) -> str:\n",
    "    return tokenizer.decode(ids.tolist())\n"
   ]
  },
  {
   "cell_type": "markdown",
   "id": "1fc0bf45",
   "metadata": {},
   "source": [
    "### Model Configurations"
   ]
  },
  {
   "cell_type": "code",
   "execution_count": null,
   "id": "1ca96cd7",
   "metadata": {},
   "outputs": [],
   "source": [
    "with open(\"config.json\", \"r\") as f:\n",
    "    config_dict = json.load(f)\n",
    "\n",
    "config = ModelConfig(**config_dict)"
   ]
  },
  {
   "cell_type": "markdown",
   "id": "f78bba75",
   "metadata": {},
   "source": [
    "### Initializing Model"
   ]
  },
  {
   "cell_type": "code",
   "execution_count": null,
   "id": "74a37d6e",
   "metadata": {},
   "outputs": [],
   "source": [
    "model = Transformer(config).to(device)"
   ]
  },
  {
   "cell_type": "markdown",
   "id": "5d8fa67a",
   "metadata": {},
   "source": [
    "### Loading the PreTrained Model"
   ]
  },
  {
   "cell_type": "markdown",
   "id": "db2af314",
   "metadata": {},
   "source": [
    "#### .safetensors"
   ]
  },
  {
   "cell_type": "code",
   "execution_count": null,
   "id": "74ac7528",
   "metadata": {},
   "outputs": [],
   "source": [
    "weights_path = \"../Models/LumenBase.safetensors\"\n",
    "state = load_file(weights_path, device=str(device))\n",
    "\n",
    "model.load_state_dict(state, strict=False)\n",
    "print(f\"Loaded .safetensors checkpoint: {weights_path}\")\n",
    "\n",
    "model.eval()"
   ]
  },
  {
   "cell_type": "markdown",
   "id": "418aeb0b",
   "metadata": {},
   "source": [
    "#### .pt (Optional)"
   ]
  },
  {
   "cell_type": "code",
   "execution_count": null,
   "id": "5af54982",
   "metadata": {},
   "outputs": [],
   "source": [
    "weights_path = \"../Models/best_model_params.pt\"\n",
    "state = torch.load(weights_path, map_location=device)\n",
    "\n",
    "model.load_state_dict(state, strict=False)\n",
    "print(f\"Loaded .pt checkpoint: {weights_path}\")\n",
    "\n",
    "model.eval()"
   ]
  },
  {
   "cell_type": "markdown",
   "id": "3d1bbb62",
   "metadata": {},
   "source": [
    "### Generator Function "
   ]
  },
  {
   "cell_type": "code",
   "execution_count": null,
   "id": "ade3fe87",
   "metadata": {},
   "outputs": [],
   "source": [
    "@torch.no_grad()\n",
    "def generate_text(\n",
    "    prompt: str,\n",
    "    max_new_tokens: int = 128,\n",
    "    temperature: float = 0.8,\n",
    "    top_k: int = 0,\n",
    "    top_p: float = 0.9,\n",
    "    do_sample: bool = True,\n",
    "    eos_token_id: int | None = None,\n",
    "    pad_token_id: int | None = None,\n",
    "):\n",
    "    input_ids = encode(prompt).to(device)\n",
    "    out_ids = generate(\n",
    "        model=model,\n",
    "        input_ids=input_ids,\n",
    "        max_new_tokens=max_new_tokens,\n",
    "        temperature=temperature,\n",
    "        top_k=top_k,\n",
    "        top_p=top_p,\n",
    "        do_sample=do_sample,\n",
    "        eos_token_id=eos_token_id,\n",
    "        pad_token_id=pad_token_id,\n",
    "        device=device,\n",
    "    )\n",
    "    # Strip the prompt portion for the decoded continuation\n",
    "    continuation_ids = out_ids[0, input_ids.size(1):]\n",
    "    return decode(continuation_ids.cpu())\n"
   ]
  },
  {
   "cell_type": "markdown",
   "id": "a6b76bfd",
   "metadata": {},
   "source": [
    "### Inference"
   ]
  },
  {
   "cell_type": "code",
   "execution_count": null,
   "id": "bbc7943a",
   "metadata": {},
   "outputs": [],
   "source": [
    "prompt = \"Once upon a time\"\n",
    "output = generate_text(prompt, max_new_tokens=100, temperature=0.7, top_p=0.8)\n",
    "print(\"Prompt:\")\n",
    "print(prompt)\n",
    "print(\"\\nGeneration:\")\n",
    "print(output)\n"
   ]
  }
 ],
 "metadata": {
  "kernelspec": {
   "display_name": "Python 3",
   "language": "python",
   "name": "python3"
  },
  "language_info": {
   "codemirror_mode": {
    "name": "ipython",
    "version": 3
   },
   "file_extension": ".py",
   "mimetype": "text/x-python",
   "name": "python",
   "nbconvert_exporter": "python",
   "pygments_lexer": "ipython3",
   "version": "3.13.5"
  }
 },
 "nbformat": 4,
 "nbformat_minor": 5
}
